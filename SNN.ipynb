{
  "nbformat": 4,
  "nbformat_minor": 0,
  "metadata": {
    "colab": {
      "name": "Quiz-2-Pattern.ipynb",
      "provenance": [],
      "collapsed_sections": [
        "y2iItpGSIEMJ",
        "CrB8hT2jIXzm"
      ]
    },
    "kernelspec": {
      "name": "python3",
      "display_name": "Python 3"
    },
    "language_info": {
      "name": "python"
    }
  },
  "cells": [
    {
      "cell_type": "code",
      "metadata": {
        "id": "VzoE6VMz2hcQ"
      },
      "source": [
        "import numpy as np"
      ],
      "execution_count": 16,
      "outputs": []
    },
    {
      "cell_type": "code",
      "metadata": {
        "id": "dmrQS5UF3plI"
      },
      "source": [
        "def multiclass_perceptron (X,Y,lr,n_iter):\n",
        "    labels = set(Y)\n",
        "    n_labels = len(labels) # k\n",
        "    n_features = X.shape[1]\n",
        "    weights = []\n",
        "    w_steps = []\n",
        "\n",
        "    for i in range(n_labels):\n",
        "        weights.append(np.zeros(n_features))\n",
        "    weights = np.array(weights)\n",
        "\n",
        "    for i in range(n_iter):\n",
        "        for j in range(len(Y)):\n",
        "            print('----------------------------------------------------------------------------------------------------------')\n",
        "            print('Itteration number : '+ str(j+1) + ' at epoch :'+str(i+1))\n",
        "            xt = X[j]\n",
        "            yt = Y[j]\n",
        "            print('Xt is :', xt)\n",
        "            print('Yt is :', yt+1)\n",
        "            predictions = weights.dot(xt)\n",
        "            print('Y-predected is the max out of this array : ', predictions)\n",
        "            y_pred = np.argmax(predictions)\n",
        "            print('Y-predected is : ', y_pred+1)\n",
        "            if yt != y_pred :\n",
        "                print('yt and y-pred are not equal !!!')\n",
        "                for w in range(n_labels):\n",
        "                    if yt == w:\n",
        "                        weights[w] = weights[w] + lr*xt\n",
        "                        print('Wt new is : ',weights[w])\n",
        "                    else:\n",
        "                        weights[w] = weights[w] - lr*xt\n",
        "            w_steps.append(np.copy(weights))\n",
        "            print('Weights after this itteration :')\n",
        "            print(weights)\n",
        "    return weights, w_steps"
      ],
      "execution_count": 17,
      "outputs": []
    },
    {
      "cell_type": "code",
      "metadata": {
        "id": "1hxn-TKp6nHy"
      },
      "source": [
        "def delta(Wi,Wt,Xt):\n",
        "    if (1 + (Wi.dot(Xt) - Wt.dot(Xt))) > 0:\n",
        "        return 1\n",
        "    else:\n",
        "        return 0"
      ],
      "execution_count": 18,
      "outputs": []
    },
    {
      "cell_type": "code",
      "metadata": {
        "id": "Dmfh0vEl5l44"
      },
      "source": [
        "def multiclass_SVM (X,Y,lr,n_iter):\n",
        "    labels = set(Y)\n",
        "    n_labels = len(labels) # k\n",
        "    n_features = X.shape[1]\n",
        "    weights = []\n",
        "    w_steps = []\n",
        "\n",
        "    for i in range(n_labels):\n",
        "        weights.append(np.zeros(n_features))\n",
        "    weights = np.array(weights)\n",
        "\n",
        "    for i in range(n_iter):\n",
        "        for j in range(len(Y)):\n",
        "            print('----------------------------------------------------------------------------------------------------------')\n",
        "            print('Itteration number : '+ str(j+1) + ' at epoch :'+str(i+1))\n",
        "            xt = X[j]\n",
        "            yt = Y[j]\n",
        "            print('Xt is :', xt)\n",
        "            print('Yt is :', yt+1)\n",
        "            for w in range(n_labels):\n",
        "                if yt == w:\n",
        "                    deltas = []\n",
        "                    for wj in range(n_labels):\n",
        "                        if wj == yt:\n",
        "                            continue\n",
        "                        deltas.append(delta(weights[wj],weights[yt],xt))\n",
        "                    print('all deltas to change Wt :')\n",
        "                    print(deltas)\n",
        "                    weights[w] = weights[w] + lr * xt * np.sum(deltas)\n",
        "                    print('Wt new is : ' , weights[w])\n",
        "                else:\n",
        "                    print('The delta of W '+ str(w+1) +' is : ', delta(weights[w], weights[yt], xt))\n",
        "                    weights[w] = weights[w] - lr * xt * delta(weights[w], weights[yt], xt)\n",
        "          \n",
        "                  \n",
        "            w_steps.append(np.copy(weights))\n",
        "            print('Weights after this itteration :')\n",
        "            print(weights)\n",
        "    return weights, w_steps"
      ],
      "execution_count": 19,
      "outputs": []
    },
    {
      "cell_type": "code",
      "metadata": {
        "id": "xypQZJc37_7P"
      },
      "source": [
        "def softmax(Xt,W,Yi):\n",
        "    expA = np.exp(W[Yi].dot(Xt))\n",
        "    expB = sum(np.exp(W[i].dot(Xt)) for i in range(len(W)))\n",
        "    return expA/expB "
      ],
      "execution_count": 20,
      "outputs": []
    },
    {
      "cell_type": "code",
      "metadata": {
        "id": "lQIHTAZm7sQC"
      },
      "source": [
        "def multiclass_multinomial_logisticR(X,Y,lr,n_iter):\n",
        "    labels = set(Y)\n",
        "    n_labels = len(labels) # k\n",
        "    n_features = X.shape[1]\n",
        "    weights = []\n",
        "    w_steps = []\n",
        "\n",
        "    for i in range(n_labels):\n",
        "        weights.append(np.zeros(n_features))\n",
        "    weights = np.array(weights)\n",
        "\n",
        "    for i in range(n_iter):\n",
        "        for j in range(len(Y)):\n",
        "            print('----------------------------------------------------------------------------------------------------------')\n",
        "            print('Itteration number : '+ str(j+1) + ' at epoch :'+str(i+1))\n",
        "            xt = X[j]\n",
        "            yt = Y[j]\n",
        "            print('Xt is :', xt)\n",
        "            print('Yt is :', yt+1)\n",
        "            y_pred = softmax(xt,weights,yt)\n",
        "            print('(Y predected) Value is :', y_pred)\n",
        "            print('(1 - Y predected) Value is :', 1 - y_pred)\n",
        "            for w in range(n_labels):\n",
        "                if yt == w:\n",
        "                    print('this is w ' + str(w+1))\n",
        "                    gradient = y_pred * xt\n",
        "                else:\n",
        "                    print('this is w '+ str(w+1))\n",
        "                    gradient = -(1-y_pred) * xt\n",
        "                print('grad = ',gradient)\n",
        "                weights[w] = weights[w] + lr * gradient\n",
        "            w_steps.append(np.copy(weights))\n",
        "            print('Weights after this itteration :')\n",
        "            print(weights)\n",
        "    return weights, w_steps\n"
      ],
      "execution_count": 52,
      "outputs": []
    },
    {
      "cell_type": "markdown",
      "metadata": {
        "id": "xcY-PNkubmQR"
      },
      "source": [
        "# Normalize Vector"
      ]
    },
    {
      "cell_type": "code",
      "metadata": {
        "id": "x-xuOj23G1QB"
      },
      "source": [
        "def normalize_Vector(X):\n",
        "    NormVector = []\n",
        "    for i in range(X.shape[1]):\n",
        "        print('------------------------------------------------------------------------------------')\n",
        "        print(X[:,i])\n",
        "        mean = np.mean(X[:,i])\n",
        "        print('Mean of the vector is : ', mean)\n",
        "        std  = np.std(X[:,i])\n",
        "        print('STD of the vector is : ', std)\n",
        "        z=[]\n",
        "        for j in range(len(X[:,i])):\n",
        "            z.append((X[j,i]-mean)/std)\n",
        "        NormVector.append(z)\n",
        "        \n",
        "    return NormVector\n",
        "\n",
        "def realNormalized(NormVector,OriginalArray):\n",
        "    arr = np.zeros(OriginalArray.shape)\n",
        "    for i in range(NormVector.shape[0]):\n",
        "        for j in range(NormVector.shape[1]):\n",
        "            arr[j][i] = NormVector[i][j] \n",
        "    return arr"
      ],
      "execution_count": 84,
      "outputs": []
    },
    {
      "cell_type": "code",
      "metadata": {
        "id": "JSyfamHnKVdU",
        "colab": {
          "base_uri": "https://localhost:8080/"
        },
        "outputId": "f533396f-5aa2-4cb3-c26d-46ab5c21ece2"
      },
      "source": [
        "Vector = np.array([[0,0,1],[0,1,1],[1,0,1],[2,0,1],[2,1,1],[3,0,1],[0,3,1],[0,4,1],[1,3,1]])\n",
        "print('------------------------------------------------------------------------------------')\n",
        "print(normalize_Vector(Vector))"
      ],
      "execution_count": 23,
      "outputs": [
        {
          "output_type": "stream",
          "text": [
            "------------------------------------------------------------------------------------\n",
            "[0 0 1 2 2 3 0 0 1]\n",
            "------------------------------------------------------------------------------------\n",
            "Mean of the vector is :  1.0\n",
            "STD of the vector is :  1.0540925533894598\n",
            "[0 1 0 0 1 0 3 4 3]\n",
            "------------------------------------------------------------------------------------\n",
            "Mean of the vector is :  1.3333333333333333\n",
            "STD of the vector is :  1.49071198499986\n",
            "[1 1 1 1 1 1 1 1 1]\n",
            "------------------------------------------------------------------------------------\n",
            "Mean of the vector is :  1.0\n",
            "STD of the vector is :  0.0\n",
            "[[-0.9486832980505138, -0.9486832980505138, 0.0, 0.9486832980505138, 0.9486832980505138, 1.8973665961010275, -0.9486832980505138, -0.9486832980505138, 0.0], [-0.8944271909999157, -0.22360679774997888, -0.8944271909999157, -0.8944271909999157, -0.22360679774997888, -0.8944271909999157, 1.1180339887498947, 1.7888543819998317, 1.1180339887498947], [nan, nan, nan, nan, nan, nan, nan, nan, nan]]\n"
          ],
          "name": "stdout"
        },
        {
          "output_type": "stream",
          "text": [
            "/usr/local/lib/python3.7/dist-packages/ipykernel_launcher.py:12: RuntimeWarning: invalid value encountered in double_scalars\n",
            "  if sys.path[0] == '':\n"
          ],
          "name": "stderr"
        }
      ]
    },
    {
      "cell_type": "markdown",
      "metadata": {
        "id": "HTs9l4trIv8e"
      },
      "source": [
        "# Add X and Y here : "
      ]
    },
    {
      "cell_type": "code",
      "metadata": {
        "id": "d9d28yss9t4e"
      },
      "source": [
        "x = np.array([[0,0,1],[0,1,1],[1,0,1],[2,0,1],[2,1,1],[3,0,1],[0,3,1],[0,4,1],[1,3,1]])\n",
        "\n",
        "y = np.array([0,0,0,1,1,1,2,2,2])"
      ],
      "execution_count": 56,
      "outputs": []
    },
    {
      "cell_type": "code",
      "metadata": {
        "id": "uRQnV3IWAIsT"
      },
      "source": [
        "x = np.array([[-1, -1], [1, -1], [-1, 1], [1, 1]])\n",
        "y = np.array([0, 0, 0, 1])"
      ],
      "execution_count": 40,
      "outputs": []
    },
    {
      "cell_type": "code",
      "metadata": {
        "colab": {
          "base_uri": "https://localhost:8080/"
        },
        "id": "w_xafZiYGToP",
        "outputId": "6d802eb8-a828-4861-ae89-2da548cfe6de"
      },
      "source": [
        "x = np.array([[0, 0, 0], [255, 0, 0], [0, 255, 0], [0, 0, 255], [255, 255, 0], [0, 255, 255], [255, 0, 255], [255, 255, 255]])\n",
        "y = np.array([0, 0, 0, 1, 0, 1, 1, 0])\n",
        "\n",
        "NormVector =  np.array(normalize_Vector(x))\n",
        "\n",
        "x = np.array(realNormalized(NormVector,x))"
      ],
      "execution_count": 85,
      "outputs": [
        {
          "output_type": "stream",
          "text": [
            "------------------------------------------------------------------------------------\n",
            "[  0 255   0   0 255   0 255 255]\n",
            "Mean of the vector is :  127.5\n",
            "STD of the vector is :  127.5\n",
            "------------------------------------------------------------------------------------\n",
            "[  0   0 255   0 255 255   0 255]\n",
            "Mean of the vector is :  127.5\n",
            "STD of the vector is :  127.5\n",
            "------------------------------------------------------------------------------------\n",
            "[  0   0   0 255   0 255 255 255]\n",
            "Mean of the vector is :  127.5\n",
            "STD of the vector is :  127.5\n"
          ],
          "name": "stdout"
        }
      ]
    },
    {
      "cell_type": "markdown",
      "metadata": {
        "id": "y2iItpGSIEMJ"
      },
      "source": [
        "# Preceptron Algorithm  "
      ]
    },
    {
      "cell_type": "code",
      "metadata": {
        "colab": {
          "base_uri": "https://localhost:8080/"
        },
        "id": "Puc2Wrf-_NhB",
        "outputId": "00667020-16d4-4aa2-e89d-a769e20b90ec"
      },
      "source": [
        "w_preceptron,s_preceptron = multiclass_perceptron(x,y,1,1)\n"
      ],
      "execution_count": 54,
      "outputs": [
        {
          "output_type": "stream",
          "text": [
            "----------------------------------------------------------------------------------------------------------\n",
            "Itteration number : 1 at epoch :1\n",
            "Xt is : [-1 -1]\n",
            "Yt is : 1\n",
            "Y-predected is the max out of this array :  [0. 0.]\n",
            "Y-predected is :  1\n",
            "Weights after this itteration :\n",
            "[[0. 0.]\n",
            " [0. 0.]]\n",
            "----------------------------------------------------------------------------------------------------------\n",
            "Itteration number : 2 at epoch :1\n",
            "Xt is : [ 1 -1]\n",
            "Yt is : 1\n",
            "Y-predected is the max out of this array :  [0. 0.]\n",
            "Y-predected is :  1\n",
            "Weights after this itteration :\n",
            "[[0. 0.]\n",
            " [0. 0.]]\n",
            "----------------------------------------------------------------------------------------------------------\n",
            "Itteration number : 3 at epoch :1\n",
            "Xt is : [-1  1]\n",
            "Yt is : 1\n",
            "Y-predected is the max out of this array :  [0. 0.]\n",
            "Y-predected is :  1\n",
            "Weights after this itteration :\n",
            "[[0. 0.]\n",
            " [0. 0.]]\n",
            "----------------------------------------------------------------------------------------------------------\n",
            "Itteration number : 4 at epoch :1\n",
            "Xt is : [1 1]\n",
            "Yt is : 2\n",
            "Y-predected is the max out of this array :  [0. 0.]\n",
            "Y-predected is :  1\n",
            "yt and y-pred are not equal !!!\n",
            "Wt new is :  [1. 1.]\n",
            "Weights after this itteration :\n",
            "[[-1. -1.]\n",
            " [ 1.  1.]]\n"
          ],
          "name": "stdout"
        }
      ]
    },
    {
      "cell_type": "markdown",
      "metadata": {
        "id": "iqbEq1yuIOlH"
      },
      "source": [
        "# SVM Algorithm "
      ]
    },
    {
      "cell_type": "code",
      "metadata": {
        "colab": {
          "base_uri": "https://localhost:8080/"
        },
        "id": "WeOnaJ16_y-j",
        "outputId": "00e1597d-0025-4260-f169-e71fa9fdf412"
      },
      "source": [
        "w_SMV,s_SMV = multiclass_SVM(x,y,1,1)\n"
      ],
      "execution_count": 55,
      "outputs": [
        {
          "output_type": "stream",
          "text": [
            "----------------------------------------------------------------------------------------------------------\n",
            "Itteration number : 1 at epoch :1\n",
            "Xt is : [-1 -1]\n",
            "Yt is : 1\n",
            "all deltas to change Wt :\n",
            "[1]\n",
            "Wt new is :  [-1. -1.]\n",
            "The delta of W 2 is :  0\n",
            "Weights after this itteration :\n",
            "[[-1. -1.]\n",
            " [ 0.  0.]]\n",
            "----------------------------------------------------------------------------------------------------------\n",
            "Itteration number : 2 at epoch :1\n",
            "Xt is : [ 1 -1]\n",
            "Yt is : 1\n",
            "all deltas to change Wt :\n",
            "[1]\n",
            "Wt new is :  [ 0. -2.]\n",
            "The delta of W 2 is :  0\n",
            "Weights after this itteration :\n",
            "[[ 0. -2.]\n",
            " [ 0.  0.]]\n",
            "----------------------------------------------------------------------------------------------------------\n",
            "Itteration number : 3 at epoch :1\n",
            "Xt is : [-1  1]\n",
            "Yt is : 1\n",
            "all deltas to change Wt :\n",
            "[1]\n",
            "Wt new is :  [-1. -1.]\n",
            "The delta of W 2 is :  1\n",
            "Weights after this itteration :\n",
            "[[-1. -1.]\n",
            " [ 1. -1.]]\n",
            "----------------------------------------------------------------------------------------------------------\n",
            "Itteration number : 4 at epoch :1\n",
            "Xt is : [1 1]\n",
            "Yt is : 2\n",
            "The delta of W 1 is :  0\n",
            "all deltas to change Wt :\n",
            "[0]\n",
            "Wt new is :  [ 1. -1.]\n",
            "Weights after this itteration :\n",
            "[[-1. -1.]\n",
            " [ 1. -1.]]\n"
          ],
          "name": "stdout"
        }
      ]
    },
    {
      "cell_type": "markdown",
      "metadata": {
        "id": "CrB8hT2jIXzm"
      },
      "source": [
        "# Multinomial logistic Regression Algorithm "
      ]
    },
    {
      "cell_type": "code",
      "metadata": {
        "colab": {
          "base_uri": "https://localhost:8080/"
        },
        "id": "vDJD_DTY_2a3",
        "outputId": "2e18d947-8fef-4598-9549-c939db8c7305"
      },
      "source": [
        "w_logisticR,s_logisticR = multiclass_multinomial_logisticR(x,y,1,1)\n"
      ],
      "execution_count": 86,
      "outputs": [
        {
          "output_type": "stream",
          "text": [
            "----------------------------------------------------------------------------------------------------------\n",
            "Itteration number : 1 at epoch :1\n",
            "Xt is : [-1. -1. -1.]\n",
            "Yt is : 1\n",
            "(Y predected) Value is : 0.5\n",
            "(1 - Y predected) Value is : 0.5\n",
            "this is w 1\n",
            "grad =  [-0.5 -0.5 -0.5]\n",
            "this is w 2\n",
            "grad =  [0.5 0.5 0.5]\n",
            "Weights after this itteration :\n",
            "[[-0.5 -0.5 -0.5]\n",
            " [ 0.5  0.5  0.5]]\n",
            "----------------------------------------------------------------------------------------------------------\n",
            "Itteration number : 2 at epoch :1\n",
            "Xt is : [ 1. -1. -1.]\n",
            "Yt is : 1\n",
            "(Y predected) Value is : 0.731058578630005\n",
            "(1 - Y predected) Value is : 0.268941421369995\n",
            "this is w 1\n",
            "grad =  [ 0.73105858 -0.73105858 -0.73105858]\n",
            "this is w 2\n",
            "grad =  [-0.26894142  0.26894142  0.26894142]\n",
            "Weights after this itteration :\n",
            "[[ 0.23105858 -1.23105858 -1.23105858]\n",
            " [ 0.23105858  0.76894142  0.76894142]]\n",
            "----------------------------------------------------------------------------------------------------------\n",
            "Itteration number : 3 at epoch :1\n",
            "Xt is : [-1.  1. -1.]\n",
            "Yt is : 1\n",
            "(Y predected) Value is : 0.5\n",
            "(1 - Y predected) Value is : 0.5\n",
            "this is w 1\n",
            "grad =  [-0.5  0.5 -0.5]\n",
            "this is w 2\n",
            "grad =  [ 0.5 -0.5  0.5]\n",
            "Weights after this itteration :\n",
            "[[-0.26894142 -0.73105858 -1.73105858]\n",
            " [ 0.73105858  0.26894142  1.26894142]]\n",
            "----------------------------------------------------------------------------------------------------------\n",
            "Itteration number : 4 at epoch :1\n",
            "Xt is : [-1. -1.  1.]\n",
            "Yt is : 2\n",
            "(Y predected) Value is : 0.7310585786300048\n",
            "(1 - Y predected) Value is : 0.2689414213699952\n",
            "this is w 1\n",
            "grad =  [ 0.26894142  0.26894142 -0.26894142]\n",
            "this is w 2\n",
            "grad =  [-0.73105858 -0.73105858  0.73105858]\n",
            "Weights after this itteration :\n",
            "[[ 2.22044605e-16 -4.62117157e-01 -2.00000000e+00]\n",
            " [ 2.22044605e-16 -4.62117157e-01  2.00000000e+00]]\n",
            "----------------------------------------------------------------------------------------------------------\n",
            "Itteration number : 5 at epoch :1\n",
            "Xt is : [ 1.  1. -1.]\n",
            "Yt is : 1\n",
            "(Y predected) Value is : 0.9820137900379086\n",
            "(1 - Y predected) Value is : 0.017986209962091437\n",
            "this is w 1\n",
            "grad =  [ 0.98201379  0.98201379 -0.98201379]\n",
            "this is w 2\n",
            "grad =  [-0.01798621 -0.01798621  0.01798621]\n",
            "Weights after this itteration :\n",
            "[[ 0.98201379  0.51989663 -2.98201379]\n",
            " [-0.01798621 -0.48010337  2.01798621]]\n",
            "----------------------------------------------------------------------------------------------------------\n",
            "Itteration number : 6 at epoch :1\n",
            "Xt is : [-1.  1.  1.]\n",
            "Yt is : 2\n",
            "(Y predected) Value is : 0.993307149075715\n",
            "(1 - Y predected) Value is : 0.006692850924284954\n",
            "this is w 1\n",
            "grad =  [ 0.00669285 -0.00669285 -0.00669285]\n",
            "this is w 2\n",
            "grad =  [-0.99330715  0.99330715  0.99330715]\n",
            "Weights after this itteration :\n",
            "[[ 0.98870664  0.51320378 -2.98870664]\n",
            " [-1.01129336  0.51320378  3.01129336]]\n",
            "----------------------------------------------------------------------------------------------------------\n",
            "Itteration number : 7 at epoch :1\n",
            "Xt is : [ 1. -1.  1.]\n",
            "Yt is : 2\n",
            "(Y predected) Value is : 0.9820137900379083\n",
            "(1 - Y predected) Value is : 0.01798620996209166\n",
            "this is w 1\n",
            "grad =  [-0.01798621  0.01798621 -0.01798621]\n",
            "this is w 2\n",
            "grad =  [ 0.98201379 -0.98201379  0.98201379]\n",
            "Weights after this itteration :\n",
            "[[ 0.97072043  0.53118999 -3.00669285]\n",
            " [-0.02927957 -0.46881001  3.99330715]]\n",
            "----------------------------------------------------------------------------------------------------------\n",
            "Itteration number : 8 at epoch :1\n",
            "Xt is : [1. 1. 1.]\n",
            "Yt is : 1\n",
            "(Y predected) Value is : 0.006692850924284857\n",
            "(1 - Y predected) Value is : 0.9933071490757152\n",
            "this is w 1\n",
            "grad =  [0.00669285 0.00669285 0.00669285]\n",
            "this is w 2\n",
            "grad =  [-0.99330715 -0.99330715 -0.99330715]\n",
            "Weights after this itteration :\n",
            "[[ 0.97741328  0.53788284 -3.        ]\n",
            " [-1.02258672 -1.46211716  3.        ]]\n"
          ],
          "name": "stdout"
        }
      ]
    },
    {
      "cell_type": "markdown",
      "metadata": {
        "id": "iy2YrTGHa75S"
      },
      "source": [
        "# Global Thresholding"
      ]
    },
    {
      "cell_type": "code",
      "metadata": {
        "id": "SPdcc7hq_-gu"
      },
      "source": [
        "import cv2 as cv\n",
        "import sys\n",
        "\n",
        "def get_thresholds(histogram,n_th,margin=30):\n",
        "    sorted_hist = sorted(histogram , reverse=True)\n",
        "    thresholds  = [np.where(histogram == sorted_hist[0])[0][0]]\n",
        "    for v in sorted_hist:\n",
        "        if len(thresholds) >= n_th:\n",
        "            break\n",
        "        possible_th = np.where(histogram == v)[0][0]\n",
        "        if np.abs(possible_th - thresholds[-1]) > margin :\n",
        "            thresholds.append(possible_th)\n",
        "    return thresholds\n",
        "\n",
        "def update_thresholds(img, regions):\n",
        "    thresholds = []\n",
        "    for i in range(len(regions)-1):\n",
        "        mask1 = regions[i]\n",
        "        mask2 = regions[i+1]\n",
        "        mu1 = np.mean(img[mask1])\n",
        "        mu2 = np.mean(img[mask2])\n",
        "        thresholds.append(np.mean([mu1, mu2]))\n",
        "    return thresholds\n",
        "\n",
        "def global_thresholding(img,n_th,margin=30,channel=0,mask=None, histSize = 256, histRange=[0,256]):\n",
        "    try:\n",
        "        histogram = cv.calcHist([img],[channel],mask,[histSize],histRange)\n",
        "    except:\n",
        "        histogram, _ = np.histogram(img, histSize, histRange)\n",
        "    \n",
        "    ths = get_thresholds(histogram,n_th,margin)\n",
        "    print('Thresholds are : ', ths)\n",
        "    delta = np.ones(n_th)\n",
        "    e = sys.float_info.epsilon\n",
        "    updated_ths = np.copy(ths)\n",
        "    i=0\n",
        "    while (np.linalg.norm(delta,1) > e):\n",
        "        print('----------------------------------------------------------------------------------------------------------')\n",
        "        print('epoch number : ',i)\n",
        "        ths = np.copy(updated_ths)\n",
        "        regions = []\n",
        "        regions.append(img < ths[0])\n",
        "        delta = np.zeros(n_th)\n",
        "        if n_th > 1:\n",
        "            for i in range(len(ths)-1):\n",
        "                two_thresholds = sorted([ths[i+1],ths[i]])\n",
        "                t1 = two_thresholds[0]\n",
        "                t2 = two_thresholds[1]\n",
        "                regions.append(np.logical_and(img<t1, img>t2))\n",
        "\n",
        "        regions.append(img > ths[-1])\n",
        "        print('The regions are : ')\n",
        "        print(np.array(img[regions[0]]))\n",
        "        print(np.array(img[regions[1]]))\n",
        "        updated_ths = update_thresholds(img,regions)\n",
        "        print('Updated Thresholds are : ', updated_ths)\n",
        "        delta = np.array(updated_ths) - np.array(ths)\n",
        "        i = i + 1\n",
        "    return ths, regions\n",
        "\n"
      ],
      "execution_count": 29,
      "outputs": []
    },
    {
      "cell_type": "code",
      "metadata": {
        "id": "U_iZAzCCj4Yt"
      },
      "source": [
        "# # if image \n",
        "\n",
        "# img = cv.imread('imageName',0)\n",
        "# histogram = cv.calcHist([img],[0],None,[256],[0,256])\n",
        "# plt.plot(histogram)\n",
        "\n",
        "# ths,regions = global_thresholding(img,1,30)\n",
        "# segmented = apply_regions(img,regions)"
      ],
      "execution_count": 30,
      "outputs": []
    },
    {
      "cell_type": "code",
      "metadata": {
        "id": "V1aXkPS0kT84"
      },
      "source": [
        "x = [[146,125,140],[130,121,140],[110,105,125],[202,201,197],[160,144,144],\n",
        "     [67,64,75],[19,18,23],[20,22,32],[20,21,26],[82,81,112],\n",
        "     [148,124,96],[154,137,111],[181,168,136],[185,172,163],[114,87,60],\n",
        "     [159,142,122],[163,138,107],[149,132,102],[169,155,129],[140,114,87]]\n",
        "\n",
        "x = np.array(x)\n",
        "\n",
        "y = np.array([1]*10 + [-1]*10)\n",
        "\n",
        "test_x = np.array([[100,124,96],[154,100,111],[11,68,16],[85,72,53],[114,150,16]])"
      ],
      "execution_count": 31,
      "outputs": []
    },
    {
      "cell_type": "code",
      "metadata": {
        "id": "GaGiGE82nPnp"
      },
      "source": [
        " means_x    = np.array([np.mean(ch) for ch in x])\n",
        " means_test = np.array([np.mean(ch) for ch in test_x])"
      ],
      "execution_count": 32,
      "outputs": []
    },
    {
      "cell_type": "code",
      "metadata": {
        "id": "2eLyzCLIt7k_"
      },
      "source": [
        "x = [10,20,30,40,200,220,150,240,\n",
        "      20,50,60,70,210,230,255,255,\n",
        "      30,60,100,120,205,210,240,200,\n",
        "      40,70,120,150,205,215,210,250\n",
        "      ]\n",
        "\n",
        "x = np.array(x)\n",
        "\n",
        "y = np.array([0,0,0,0,0,0,0,0,0,0,0,0,0,0,0,0,1,0,0,0,0,1,1,1,1,0,0,0,1,1,1,1,1])"
      ],
      "execution_count": 33,
      "outputs": []
    },
    {
      "cell_type": "code",
      "metadata": {
        "colab": {
          "base_uri": "https://localhost:8080/"
        },
        "id": "r4l-g-hyn1iT",
        "outputId": "3329b8c8-efea-4e1e-95f4-b93814144930"
      },
      "source": [
        "ths, regions = global_thresholding(x,1,30)"
      ],
      "execution_count": 34,
      "outputs": [
        {
          "output_type": "stream",
          "text": [
            "Thresholds are :  [210]\n",
            "----------------------------------------------------------------------------------------------------------\n",
            "epoch number :  0\n",
            "The regions are : \n",
            "[ 10  20  30  40 200 150  20  50  60  70  30  60 100 120 205 200  40  70\n",
            " 120 150 205]\n",
            "[220 240 230 255 255 240 215 250]\n",
            "Updated Thresholds are :  [165.49107142857144]\n",
            "----------------------------------------------------------------------------------------------------------\n",
            "epoch number :  1\n",
            "The regions are : \n",
            "[ 10  20  30  40 150  20  50  60  70  30  60 100 120  40  70 120 150]\n",
            "[200 220 240 210 230 255 255 205 210 240 200 205 215 210 250]\n",
            "Updated Thresholds are :  [145.02941176470588]\n",
            "----------------------------------------------------------------------------------------------------------\n",
            "epoch number :  2\n",
            "The regions are : \n",
            "[ 10  20  30  40  20  50  60  70  30  60 100 120  40  70 120]\n",
            "[200 220 150 240 210 230 255 255 205 210 240 200 150 205 215 210 250]\n",
            "Updated Thresholds are :  [135.20588235294116]\n",
            "----------------------------------------------------------------------------------------------------------\n",
            "epoch number :  3\n",
            "The regions are : \n",
            "[ 10  20  30  40  20  50  60  70  30  60 100 120  40  70 120]\n",
            "[200 220 150 240 210 230 255 255 205 210 240 200 150 205 215 210 250]\n",
            "Updated Thresholds are :  [135.20588235294116]\n"
          ],
          "name": "stdout"
        }
      ]
    },
    {
      "cell_type": "code",
      "metadata": {
        "colab": {
          "base_uri": "https://localhost:8080/"
        },
        "id": "FuZU9nTevQfI",
        "outputId": "98e26bd3-dd9a-4020-decc-b58e36468d4b"
      },
      "source": [
        "means_test"
      ],
      "execution_count": 35,
      "outputs": [
        {
          "output_type": "execute_result",
          "data": {
            "text/plain": [
              "array([106.66666667, 121.66666667,  31.66666667,  70.        ,\n",
              "        93.33333333])"
            ]
          },
          "metadata": {
            "tags": []
          },
          "execution_count": 35
        }
      ]
    },
    {
      "cell_type": "code",
      "metadata": {
        "id": "2U_zSdGJvToh"
      },
      "source": [
        ""
      ],
      "execution_count": 35,
      "outputs": []
    }
  ]
}